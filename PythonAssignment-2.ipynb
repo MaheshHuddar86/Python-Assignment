{
 "cells": [
  {
   "cell_type": "markdown",
   "metadata": {},
   "source": [
    "# Machine Learning and Deep Learning Masters Course by iNeuron.ai"
   ]
  },
  {
   "cell_type": "markdown",
   "metadata": {},
   "source": [
    "# Python Assignment - 2"
   ]
  },
  {
   "cell_type": "markdown",
   "metadata": {},
   "source": [
    "### Dr. Mahesh Huddar"
   ]
  },
  {
   "cell_type": "markdown",
   "metadata": {},
   "source": [
    "#### 1. Create the below pattern using nested for loop in Python\n",
    "#### * \n",
    "#### *  * \n",
    "#### *  *  * \n",
    "#### *  *  *  * \n",
    "#### *  *  *  *  * \n",
    "#### *  *  *  * \n",
    "#### *  *  * \n",
    "#### *  * \n",
    "#### *"
   ]
  },
  {
   "cell_type": "code",
   "execution_count": 1,
   "metadata": {},
   "outputs": [
    {
     "name": "stdout",
     "output_type": "stream",
     "text": [
      "Enter the value of n (number of stars in middle row):5\n",
      "The Generated Pattern is: \n",
      "\n",
      "* \n",
      "* * \n",
      "* * * \n",
      "* * * * \n",
      "* * * * * \n",
      "* * * * * * \n",
      "* * * * * \n",
      "* * * * \n",
      "* * * \n",
      "* * \n",
      "* \n",
      "\n"
     ]
    }
   ],
   "source": [
    "n = int(input(\"Enter the value of n (number of stars in middle row):\"))\n",
    "#1st half of pattern\n",
    "print(\"The Generated Pattern is: \")\n",
    "i=0\n",
    "while i<=n:\n",
    "    for j in range(i):\n",
    "        print(\"* \",end=\"\")\n",
    "    print(\"\")\n",
    "    i=i+1\n",
    "#2nd half of pattern\n",
    "while i>=0:\n",
    "    for j in range(i):\n",
    "        print(\"* \",end=\"\")\n",
    "    print(\"\")\n",
    "    i=i-1"
   ]
  },
  {
   "cell_type": "markdown",
   "metadata": {},
   "source": [
    "#### 2. Write a Python program to reverse a word after accepting the input from the user.\n",
    "#### Input word: ineuron\n",
    "#### Output: norueni"
   ]
  },
  {
   "cell_type": "code",
   "execution_count": 2,
   "metadata": {},
   "outputs": [
    {
     "name": "stdout",
     "output_type": "stream",
     "text": [
      "Enter the word: Mahesh\n",
      "Revesr of the entered word\n",
      "1. Using slicing: hsehaM\n",
      "2. Without using slicing: hsehaM"
     ]
    }
   ],
   "source": [
    "word=input(\"Enter the word: \")\n",
    "print(\"Revesr of the entered word\")\n",
    "print(\"1. Using slicing: \"+word[::-1]) \n",
    "\n",
    "print(\"2. Without using slicing: \",end=\"\") \n",
    "l=len(word)-1\n",
    "while l>=0:\n",
    "    print(word[l],end=\"\")\n",
    "    l=l-1"
   ]
  },
  {
   "cell_type": "code",
   "execution_count": null,
   "metadata": {},
   "outputs": [],
   "source": []
  }
 ],
 "metadata": {
  "kernelspec": {
   "display_name": "Python 3",
   "language": "python",
   "name": "python3"
  },
  "language_info": {
   "codemirror_mode": {
    "name": "ipython",
    "version": 3
   },
   "file_extension": ".py",
   "mimetype": "text/x-python",
   "name": "python",
   "nbconvert_exporter": "python",
   "pygments_lexer": "ipython3",
   "version": "3.7.6"
  }
 },
 "nbformat": 4,
 "nbformat_minor": 4
}
