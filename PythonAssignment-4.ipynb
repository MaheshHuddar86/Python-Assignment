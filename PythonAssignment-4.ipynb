{
 "cells": [
  {
   "cell_type": "markdown",
   "metadata": {},
   "source": [
    "# Machine Learning and Deep Learning Masters Course by iNeuron.ai"
   ]
  },
  {
   "cell_type": "markdown",
   "metadata": {},
   "source": [
    "# Python Assignment - 4"
   ]
  },
  {
   "cell_type": "markdown",
   "metadata": {},
   "source": [
    "### Dr. Mahesh Huddar"
   ]
  },
  {
   "cell_type": "markdown",
   "metadata": {},
   "source": [
    "#### 1.1 Write a Python Program(with class concepts) to find the area of the triangle using the below formula.\n",
    "#### area = (s*(s-a)*(s-b)*(s-c)) ** 0.5\n",
    "#### Function to take the length of the sides of triangle from user should be defined in the parent class and function to calculate the area should be defined in subclass."
   ]
  },
  {
   "cell_type": "code",
   "execution_count": 1,
   "metadata": {},
   "outputs": [
    {
     "name": "stdout",
     "output_type": "stream",
     "text": [
      "Enter the length of sides of trianlge\n",
      "Side1:3\n",
      "Side2:4\n",
      "Side3:5\n",
      "Area of the triangle: 6.0\n"
     ]
    }
   ],
   "source": [
    "class triangle():\n",
    "    def __init__(self, a, b, c):\n",
    "        self.a=a\n",
    "        self.b=b\n",
    "        self.c=c\n",
    "        self.s=((a+b+c)/2)\n",
    "    def cal_area(self):\n",
    "        area = (self.s*(self.s-self.a)*(self.s-self.b)*(self.s-self.c))** 0.5\n",
    "        return area\n",
    "    \n",
    "print (\"Enter the length of sides of trianlge\")\n",
    "a = int (input(\"Side1:\"))\n",
    "b = int (input(\"Side2:\"))\n",
    "c = int (input(\"Side3:\"))\n",
    "\n",
    "t=triangle(a, b, c)\n",
    "print(\"Area of the triangle: \"+str(t.cal_area()))"
   ]
  },
  {
   "cell_type": "markdown",
   "metadata": {},
   "source": [
    "#### 1.2 Write a function filter_long_words() that takes a list of words and an integer n and returns the list of words that are longer than n."
   ]
  },
  {
   "cell_type": "code",
   "execution_count": 2,
   "metadata": {},
   "outputs": [
    {
     "name": "stdout",
     "output_type": "stream",
     "text": [
      "Enter the value of n:6\n",
      "List of words longer than 6 : ['ineuron', 'programming']\n"
     ]
    }
   ],
   "source": [
    "def filter_long_words(lst,n):\n",
    "    result=[]\n",
    "    for i in lst:\n",
    "        if len(i)>n:\n",
    "            result.append(i)  \n",
    "    return result\n",
    "\n",
    "words=[\"Mahesh\", \"Huddar\", \"ineuron\",\"python\",\"programming\", \"java\",\"sql\"]\n",
    "n= int(input(\"Enter the value of n:\"))\n",
    "\n",
    "result=filter_long_words(words,n)\n",
    "print(\"List of words longer than \"+str(n)+\" : \"+str(result))"
   ]
  },
  {
   "cell_type": "markdown",
   "metadata": {},
   "source": [
    "#### 2.1 Write a Python program using function concept that maps list of words into a list of integers representing the lengths of the corresponding words.\n",
    "##### Hint: If a list [ ab,cde,erty] is passed on to the python function output should come as [2,3,4]\n",
    "##### Here 2,3 and 4 are the lengths of the words in the list."
   ]
  },
  {
   "cell_type": "code",
   "execution_count": 3,
   "metadata": {},
   "outputs": [
    {
     "name": "stdout",
     "output_type": "stream",
     "text": [
      "[2, 3, 4]\n"
     ]
    }
   ],
   "source": [
    "def word_to_int(lst):\n",
    "    result=[]\n",
    "    for i in lst:\n",
    "        result.append(len(i))\n",
    "    return result\n",
    "\n",
    "word=[\"ab\",\"cde\",\"erty\"]\n",
    "int_list=word_to_int(word)\n",
    "print(int_list)"
   ]
  },
  {
   "cell_type": "markdown",
   "metadata": {},
   "source": [
    "#### 2.2 Write a Python function which takes a character (i.e. a string of length 1) and returns True if it is a vowel, False otherwise."
   ]
  },
  {
   "cell_type": "code",
   "execution_count": 4,
   "metadata": {},
   "outputs": [
    {
     "name": "stdout",
     "output_type": "stream",
     "text": [
      "Enter a character :e\n",
      "e is vowel?:  True\n"
     ]
    }
   ],
   "source": [
    "def check_vowel(char):\n",
    "    vowel = [\"a\", \"e\", \"i\", \"o\", \"u\"]\n",
    "    if len(char) > 1:\n",
    "        print(\"Please enter only one character\")\n",
    "    elif char in vowel:\n",
    "        return True\n",
    "    else:\n",
    "        return False\n",
    "\n",
    "\n",
    "char = input(\"Enter a character :\")\n",
    "new_char = char.lower()\n",
    "print(char, \"is vowel?: \",check_vowel(new_char))"
   ]
  },
  {
   "cell_type": "code",
   "execution_count": null,
   "metadata": {},
   "outputs": [],
   "source": []
  }
 ],
 "metadata": {
  "kernelspec": {
   "display_name": "Python 3",
   "language": "python",
   "name": "python3"
  },
  "language_info": {
   "codemirror_mode": {
    "name": "ipython",
    "version": 3
   },
   "file_extension": ".py",
   "mimetype": "text/x-python",
   "name": "python",
   "nbconvert_exporter": "python",
   "pygments_lexer": "ipython3",
   "version": "3.7.6"
  }
 },
 "nbformat": 4,
 "nbformat_minor": 4
}
