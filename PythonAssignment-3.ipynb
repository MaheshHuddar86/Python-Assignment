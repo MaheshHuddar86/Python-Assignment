{
 "cells": [
  {
   "cell_type": "markdown",
   "metadata": {},
   "source": [
    "# Machine Learning and Deep Learning Masters Course by iNeuron.ai"
   ]
  },
  {
   "cell_type": "markdown",
   "metadata": {},
   "source": [
    "# Python Assignment - 3"
   ]
  },
  {
   "cell_type": "markdown",
   "metadata": {},
   "source": [
    "### Dr. Mahesh Huddar"
   ]
  },
  {
   "cell_type": "markdown",
   "metadata": {},
   "source": [
    "#### 1.1 Write a Python Program to implement your own myreduce() function which works exactly like Python's built-in function reduce()"
   ]
  },
  {
   "cell_type": "code",
   "execution_count": 1,
   "metadata": {},
   "outputs": [
    {
     "name": "stdout",
     "output_type": "stream",
     "text": [
      "Output with original reduce function:  15\n"
     ]
    }
   ],
   "source": [
    "# The reduce() function accepts a function, sequence and returns a single value\n",
    "from functools import reduce\n",
    "\n",
    "def add(a, b):\n",
    "    return a+b\n",
    "\n",
    "l = [1, 2, 3, 4, 5]\n",
    "\n",
    "print(\"Output with original reduce function: \", reduce(add, l))"
   ]
  },
  {
   "cell_type": "code",
   "execution_count": 2,
   "metadata": {},
   "outputs": [
    {
     "name": "stdout",
     "output_type": "stream",
     "text": [
      "15\n"
     ]
    }
   ],
   "source": [
    "# The myreduce() function\n",
    "\n",
    "def dd(num1,num2):\n",
    "    return num1+num2\n",
    "\n",
    "def myreduce(function,sequence):\n",
    "    value=sequence[0]\n",
    "    for i in sequence[1:]:\n",
    "        value=function(value,i)\n",
    "    return value\n",
    "\n",
    "result=myreduce(add,[1, 2, 3, 4, 5])\n",
    "print(result)"
   ]
  },
  {
   "cell_type": "markdown",
   "metadata": {},
   "source": [
    "#### 1.2 Write a Python program to implement your own myfilter() function which works exactly like Python's built-in function filter()"
   ]
  },
  {
   "cell_type": "code",
   "execution_count": 3,
   "metadata": {},
   "outputs": [
    {
     "name": "stdout",
     "output_type": "stream",
     "text": [
      "Output with original filter function:  [2, 4, 6]\n"
     ]
    }
   ],
   "source": [
    "# The filter() function takes a function and a sequence as arguments and returns an iterable, \n",
    "# only yielding the items in sequence for which function returns True.\n",
    "\n",
    "def even_number(num):\n",
    "    if num % 2 == 0:\n",
    "        return True\n",
    "    else:\n",
    "        return False\n",
    "\n",
    "\n",
    "lst = [1, 2, 3, 4, 5, 6]\n",
    "\n",
    "print(\"Output with original filter function: \", list(filter(even_number, lst)))"
   ]
  },
  {
   "cell_type": "code",
   "execution_count": 4,
   "metadata": {},
   "outputs": [
    {
     "name": "stdout",
     "output_type": "stream",
     "text": [
      "Output with custom myfilter function:  [2, 4, 6]\n"
     ]
    }
   ],
   "source": [
    "# Custom myfilter function\n",
    "\n",
    "def myfilter(function, sequence): \n",
    "    # as return type of inbuilt filter is iterable object, we create list which our custom filter can return\n",
    "    new_list = []\n",
    "    for ele in sequence:\n",
    "        if function(ele) == True:\n",
    "            # insterting in the list which we created\n",
    "            new_list.append(ele)\n",
    "    return new_list\n",
    "\n",
    "\n",
    "print(\"Output with custom myfilter function: \", list(myfilter(even_number, lst)))"
   ]
  },
  {
   "cell_type": "markdown",
   "metadata": {},
   "source": [
    "#### 2. Implement List comprehensions to produce the following lists. Write List comprehensions to produce the following Lists\n",
    "#### ['x', 'xx', 'xxx', 'xxxx', 'y', 'yy', 'yyy', 'yyyy', 'z', 'zz', 'zzz', 'zzzz']\n",
    "#### ['x', 'y', 'z', 'xx', 'yy', 'zz', 'xxx', 'yyy', 'zzz', 'xxxx', 'yyyy', 'zzzz']\n",
    "#### [[2], [3], [4], [3], [4], [5], [4], [5], [6]] [[2, 3, 4, 5], [3, 4, 5, 6], [4, 5, 6, 7], [5, 6, 7, 8]]\n",
    "#### [(1, 1), (2, 1), (3, 1), (1, 2), (2, 2), (3, 2), (1, 3), (2, 3), (3, 3)]"
   ]
  },
  {
   "cell_type": "code",
   "execution_count": 5,
   "metadata": {},
   "outputs": [
    {
     "name": "stdout",
     "output_type": "stream",
     "text": [
      "['x', 'y', 'z'] <-----> ['x', 'xx', 'xxx', 'xxxx', 'y', 'yy', 'yyy', 'yyyy', 'z', 'zz', 'zzz', 'zzzz']\n",
      "['x', 'y', 'z'] <-----> ['x', 'y', 'z', 'xx', 'yy', 'zz', 'xxx', 'yyy', 'zzz', 'xxxx', 'yyyy', 'zzzz']\n",
      "[2, 3, 4] <-----> [[2], [3], [4], [3], [4], [5], [4], [5], [6]]\n",
      "[2, 3, 4, 5] <-----> [[2, 3, 4, 5], [3, 4, 5, 6], [4, 5, 6, 7], [5, 6, 7, 8]]\n",
      "[1, 2, 3] <-----> [(1, 1), (2, 1), (3, 1), (1, 2), (2, 2), (3, 2), (1, 3), (2, 3), (3, 3)]\n"
     ]
    }
   ],
   "source": [
    "org_list = ['x', 'y', 'z']\n",
    "new_list = [ele*num for ele in org_list for num in range(1, 5)]\n",
    "print(org_list, \"<----->\", new_list)\n",
    "\n",
    "new_list = [ele*num for num in range(1, 5) for ele in org_list]\n",
    "print(org_list, \"<----->\", new_list)\n",
    "\n",
    "num_list1 = [2, 3, 4]\n",
    "new_list = [[ele+num] for ele in num_list1 for num in range(3)]\n",
    "print(num_list1, \"<----->\", new_list)\n",
    "\n",
    "num_list2=[2,3,4,5]\n",
    "new_list=[[x+n for n in range(0,4)] for x in num_list2 ]\n",
    "print(num_list2, \"<----->\",new_list)\n",
    "\n",
    "num_list3 = [1, 2, 3]\n",
    "new_list = [(ele, num) for num in num_list3 for ele in num_list3]\n",
    "print(num_list3, \"<----->\", new_list)"
   ]
  },
  {
   "cell_type": "code",
   "execution_count": null,
   "metadata": {},
   "outputs": [],
   "source": []
  }
 ],
 "metadata": {
  "kernelspec": {
   "display_name": "Python 3",
   "language": "python",
   "name": "python3"
  },
  "language_info": {
   "codemirror_mode": {
    "name": "ipython",
    "version": 3
   },
   "file_extension": ".py",
   "mimetype": "text/x-python",
   "name": "python",
   "nbconvert_exporter": "python",
   "pygments_lexer": "ipython3",
   "version": "3.7.6"
  }
 },
 "nbformat": 4,
 "nbformat_minor": 4
}
