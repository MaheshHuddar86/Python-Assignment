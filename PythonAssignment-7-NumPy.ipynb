{
 "cells": [
  {
   "cell_type": "markdown",
   "metadata": {},
   "source": [
    "# Machine Learning and Deep Learning Masters Course by iNeuron.ai"
   ]
  },
  {
   "cell_type": "markdown",
   "metadata": {},
   "source": [
    "# Python Assignment - 7 NumPy"
   ]
  },
  {
   "cell_type": "markdown",
   "metadata": {},
   "source": [
    "### Dr. Mahesh Huddar"
   ]
  },
  {
   "cell_type": "markdown",
   "metadata": {},
   "source": [
    "#### 1. Write a function so that the columns of the output matrix are powers of the input vector."
   ]
  },
  {
   "cell_type": "code",
   "execution_count": 1,
   "metadata": {},
   "outputs": [
    {
     "data": {
      "text/plain": [
       "array([[  1,   1,   1,   1],\n",
       "       [  1,   2,   4,   8],\n",
       "       [  1,   3,   9,  27],\n",
       "       [  1,   5,  25, 125]])"
      ]
     },
     "execution_count": 1,
     "metadata": {},
     "output_type": "execute_result"
    }
   ],
   "source": [
    "import numpy as np\n",
    "\n",
    "x = np.array([1, 2, 3, 5])\n",
    "np.vander(x)\n",
    "\n",
    "np.vander(x, increasing=True)"
   ]
  },
  {
   "cell_type": "code",
   "execution_count": 2,
   "metadata": {},
   "outputs": [],
   "source": [
    "def vander_matrix(vector, n, increasing=False):\n",
    "    \n",
    "    if not increasing:\n",
    "        op_matx = np.array([x**(n-1-i) for x in vector for i in range(n)]).reshape(vector.size,n)\n",
    "        \n",
    "    elif increasing:\n",
    "        op_matx = np.array([x**i for x in vector for i in range(n)]).reshape(vector.size,n)\n",
    "    \n",
    "    return op_matx"
   ]
  },
  {
   "cell_type": "code",
   "execution_count": 3,
   "metadata": {},
   "outputs": [],
   "source": [
    "vector=np.array([1,2,3])"
   ]
  },
  {
   "cell_type": "code",
   "execution_count": 4,
   "metadata": {},
   "outputs": [
    {
     "data": {
      "text/plain": [
       "array([[ 1,  1,  1,  1,  1],\n",
       "       [16,  8,  4,  2,  1],\n",
       "       [81, 27,  9,  3,  1]])"
      ]
     },
     "execution_count": 4,
     "metadata": {},
     "output_type": "execute_result"
    }
   ],
   "source": [
    "vander_matrix(vector,5)"
   ]
  },
  {
   "cell_type": "code",
   "execution_count": 5,
   "metadata": {},
   "outputs": [
    {
     "data": {
      "text/plain": [
       "array([[ 1,  1,  1,  1,  1],\n",
       "       [ 1,  2,  4,  8, 16],\n",
       "       [ 1,  3,  9, 27, 81]])"
      ]
     },
     "execution_count": 5,
     "metadata": {},
     "output_type": "execute_result"
    }
   ],
   "source": [
    "vander_matrix(vector,5,True)"
   ]
  },
  {
   "cell_type": "markdown",
   "metadata": {},
   "source": [
    "#### 2. Given a sequence of n values x1, x2, ..., xn and a window size k>0, the k-th moving average of the given sequence is defined as follows: \n",
    "##### The moving average sequence has n-k+1 elements as shown below. The moving averages with k=4 of a ten-value sequence (n=10) is shown below\n",
    "i 1 2 3 4 5 6 7 8 9 10\n",
    "\n",
    "===== == == == == == == == == == ==\n",
    "\n",
    "Input 10 20 30 40 50 60 70 80 90 100\n",
    "\n",
    "y1 25 = (10+20+30+40)/4\n",
    "\n",
    "y2 35 = (20+30+40+50)/4\n",
    "\n",
    "y3 45 = (30+40+50+60)/4\n",
    "\n",
    "y4 55 = (40+50+60+70)/4\n",
    "\n",
    "y5 65 = (50+60+70+80)/4\n",
    "\n",
    "y6 75 = (60+70+80+90)/4\n",
    "\n",
    "y7 85 = (70+80+90+100)/4\n",
    "\n",
    "Thus, the moving average sequence has n-k+1=10-4+1=7 values."
   ]
  },
  {
   "cell_type": "code",
   "execution_count": 6,
   "metadata": {},
   "outputs": [],
   "source": [
    "dataset = [3, 5, 7, 2, 8, 10, 11, 65, 72, 81, 99, 100, 150]\n",
    "\n",
    "def mov_avg(values,window):\n",
    "    weights = np.repeat(1.0,window)/window\n",
    "    smas = np.convolve(values,weights,'valid')\n",
    "    return smas "
   ]
  },
  {
   "cell_type": "code",
   "execution_count": 7,
   "metadata": {},
   "outputs": [
    {
     "name": "stdout",
     "output_type": "stream",
     "text": [
      "[  5.           4.66666667   5.66666667   6.66666667   9.66666667\n",
      "  28.66666667  49.33333333  72.66666667  84.          93.33333333\n",
      " 116.33333333]\n"
     ]
    }
   ],
   "source": [
    "print (mov_avg(dataset,3))"
   ]
  },
  {
   "cell_type": "code",
   "execution_count": 8,
   "metadata": {},
   "outputs": [
    {
     "name": "stdout",
     "output_type": "stream",
     "text": [
      "[  4.25   5.5    6.75   7.75  23.5   39.5   57.25  79.25  88.   107.5 ]\n"
     ]
    }
   ],
   "source": [
    "print (mov_avg(dataset,4))"
   ]
  },
  {
   "cell_type": "code",
   "execution_count": null,
   "metadata": {},
   "outputs": [],
   "source": []
  }
 ],
 "metadata": {
  "kernelspec": {
   "display_name": "Python 3",
   "language": "python",
   "name": "python3"
  },
  "language_info": {
   "codemirror_mode": {
    "name": "ipython",
    "version": 3
   },
   "file_extension": ".py",
   "mimetype": "text/x-python",
   "name": "python",
   "nbconvert_exporter": "python",
   "pygments_lexer": "ipython3",
   "version": "3.7.6"
  }
 },
 "nbformat": 4,
 "nbformat_minor": 4
}
